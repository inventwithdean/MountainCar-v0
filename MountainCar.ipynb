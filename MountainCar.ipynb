{
 "cells": [
  {
   "cell_type": "code",
   "execution_count": 18,
   "id": "07ae4fec-728a-48cb-8bf6-a260abdaf36b",
   "metadata": {},
   "outputs": [],
   "source": [
    "import numpy as np\n",
    "import gymnasium as gym\n",
    "from gymnasium.wrappers import RecordVideo\n",
    "from IPython.display import Video\n",
    "import matplotlib.pyplot as plt"
   ]
  },
  {
   "cell_type": "code",
   "execution_count": 2,
   "id": "70e9558b-cd30-4fd9-b09b-7410c99e62f0",
   "metadata": {},
   "outputs": [],
   "source": [
    "env = gym.make('MountainCar-v0', render_mode='rgb_array')"
   ]
  },
  {
   "cell_type": "code",
   "execution_count": 3,
   "id": "e2a78303-ada0-46a5-b56b-9e50aa3534fe",
   "metadata": {},
   "outputs": [
    {
     "data": {
      "text/plain": [
       "(array([-0.41893476,  0.        ], dtype=float32), {})"
      ]
     },
     "execution_count": 3,
     "metadata": {},
     "output_type": "execute_result"
    }
   ],
   "source": [
    "env.reset()"
   ]
  },
  {
   "cell_type": "code",
   "execution_count": 4,
   "id": "38e01fbd-eba3-4205-b408-d0508fcbf897",
   "metadata": {},
   "outputs": [
    {
     "data": {
      "text/plain": [
       "<matplotlib.image.AxesImage at 0x78741d1c8fa0>"
      ]
     },
     "execution_count": 4,
     "metadata": {},
     "output_type": "execute_result"
    },
    {
     "data": {
      "image/png": "[encoded data removed]",
      "text/plain": [
       "<Figure size 640x480 with 1 Axes>"
      ]
     },
     "metadata": {},
     "output_type": "display_data"
    }
   ],
   "source": [
    "plt.imshow(env.render())"
   ]
  },
  {
   "cell_type": "code",
   "execution_count": 5,
   "id": "0a2fe1c4-e00f-4d8e-9e64-506ded6cb48a",
   "metadata": {},
   "outputs": [],
   "source": [
    "high = env.unwrapped.high"
   ]
  },
  {
   "cell_type": "code",
   "execution_count": 6,
   "id": "91caf670-df62-4f6b-aa49-90f478f6a21d",
   "metadata": {},
   "outputs": [],
   "source": [
    "low = env.unwrapped.low"
   ]
  },
  {
   "cell_type": "code",
   "execution_count": 7,
   "id": "9cc97bc6-dd17-4105-b38d-97669fe6e97d",
   "metadata": {},
   "outputs": [
    {
     "data": {
      "text/plain": [
       "(array([-1.2 , -0.07], dtype=float32), array([0.6 , 0.07], dtype=float32))"
      ]
     },
     "execution_count": 7,
     "metadata": {},
     "output_type": "execute_result"
    }
   ],
   "source": [
    "low, high"
   ]
  },
  {
   "cell_type": "code",
   "execution_count": 45,
   "id": "4c7956cf-2dbd-441b-a4f0-9e0754ad896d",
   "metadata": {},
   "outputs": [
    {
     "data": {
      "text/plain": [
       "array([0.06  , 0.0035], dtype=float32)"
      ]
     },
     "execution_count": 45,
     "metadata": {},
     "output_type": "execute_result"
    }
   ],
   "source": [
    "NUM_BINS = 20\n",
    "discrete_width = np.abs((low)/NUM_BINS)\n",
    "discrete_width"
   ]
  },
  {
   "cell_type": "code",
   "execution_count": 38,
   "id": "824e195c-d2c6-463e-80b1-66436d3f050d",
   "metadata": {},
   "outputs": [],
   "source": [
    "NUM_ACTIONS = 3\n",
    "# 0 -> Accelerate Left\n",
    "# 1 -> Don't Accelerate\n",
    "# 2 -> Accelerate Right"
   ]
  },
  {
   "cell_type": "code",
   "execution_count": 46,
   "id": "f8365cff-ae6f-43f9-adda-4e12f874eb88",
   "metadata": {},
   "outputs": [],
   "source": [
    "def get_discrete_state(continuous_state):\n",
    "    return tuple(continuous_state - (continuous_state % discrete_width))"
   ]
  },
  {
   "cell_type": "code",
   "execution_count": 47,
   "id": "e8e97061-cd7d-429f-ab8e-e2afe31b60b0",
   "metadata": {},
   "outputs": [],
   "source": [
    "NUM_EPISODES = 100000\n",
    "epsilon = 0.1\n",
    "alpha = 0.1\n",
    "gamma = 0.99\n",
    "Q_Table = dict()\n",
    "\n",
    "# DIDN'T CHECK FOR CONVERGENCE\n",
    "\n",
    "for episode in range(NUM_EPISODES):\n",
    "    current_state = get_discrete_state(env.reset()[0])\n",
    "    \n",
    "    while True:\n",
    "        # One Episode\n",
    "        Q_Table[current_state] = Q_Table.get(current_state, np.zeros(NUM_ACTIONS))\n",
    "        greedy_action = np.argmax(Q_Table[current_state])\n",
    "        action = greedy_action\n",
    "        \n",
    "        if np.random.rand() < epsilon:\n",
    "            # EXPLORE\n",
    "            while action==greedy_action:\n",
    "                action = np.random.randint(NUM_ACTIONS)\n",
    "        \n",
    "        new_state, reward, terminated, truncated, info = env.step(action)\n",
    "    \n",
    "        if terminated or truncated:\n",
    "            break\n",
    "        else:\n",
    "            # Update Q Values\n",
    "            new_state = get_discrete_state(new_state)\n",
    "            Q_Table[new_state] = Q_Table.get(new_state, np.zeros(NUM_ACTIONS))\n",
    "            Q_Table[current_state][action] += alpha*(reward + gamma*np.max(Q_Table[new_state]) - Q_Table[current_state][action])\n",
    "            current_state = new_state"
   ]
  },
  {
   "cell_type": "code",
   "execution_count": 48,
   "id": "4713b300-9121-453c-9f2a-163882987585",
   "metadata": {},
   "outputs": [
    {
     "name": "stdout",
     "output_type": "stream",
     "text": [
      "len(Q Table has a total of 899 states!\n"
     ]
    }
   ],
   "source": [
    "print(f\"Q Table has a total of {len(Q_Table)} states!\")"
   ]
  },
  {
   "cell_type": "code",
   "execution_count": 49,
   "id": "4247331b-797f-49df-bf8c-c3334f0d87c3",
   "metadata": {},
   "outputs": [
    {
     "name": "stdout",
     "output_type": "stream",
     "text": [
      "Moviepy - Building video /home/dean/Documents/ReinforcementLearning/Book/video/rl-video-episode-0.mp4.\n",
      "Moviepy - Writing video /home/dean/Documents/ReinforcementLearning/Book/video/rl-video-episode-0.mp4\n",
      "\n"
     ]
    },
    {
     "name": "stderr",
     "output_type": "stream",
     "text": [
      "                                                                                "
     ]
    },
    {
     "name": "stdout",
     "output_type": "stream",
     "text": [
      "Moviepy - Done !\n",
      "Moviepy - video ready /home/dean/Documents/ReinforcementLearning/Book/video/rl-video-episode-0.mp4\n",
      "Successfuly Reached The Goal!\n"
     ]
    },
    {
     "name": "stderr",
     "output_type": "stream",
     "text": [
      "\r"
     ]
    }
   ],
   "source": [
    "eval_env = gym.make('MountainCar-v0', render_mode='rgb_array')\n",
    "eval_env = RecordVideo(eval_env, 'video', episode_trigger=lambda x : x==2)\n",
    "\n",
    "current_state = get_discrete_state(eval_env.reset()[0])\n",
    "eval_env.start_video_recorder()\n",
    "while True:\n",
    "    q_val = Q_Table.get(current_state, np.zeros(NUM_ACTIONS))\n",
    "    action = np.argmax(q_val)\n",
    "    new_state, reward, terminated, truncated, info = eval_env.step(action)\n",
    "    if terminated:\n",
    "        print(\"Successfuly Reached The Goal!\")\n",
    "        done = True\n",
    "        break\n",
    "    if truncated:\n",
    "        print(\"Couldn't Reach The Goal!\")\n",
    "        break\n",
    "    current_state = get_discrete_state(new_state)\n",
    "eval_env.close_video_recorder()\n",
    "eval_env.close()"
   ]
  },
  {
   "cell_type": "code",
   "execution_count": 50,
   "id": "1572d6ec-a3d1-4bf5-a91f-2ab52236360f",
   "metadata": {},
   "outputs": [
    {
     "data": {
      "text/html": [
       "<video src=\"./video/rl-video-episode-0.mp4\" controls  >\n",
       "      Your browser does not support the <code>video</code> element.\n",
       "    </video>"
      ],
      "text/plain": [
       "<IPython.core.display.Video object>"
      ]
     },
     "execution_count": 50,
     "metadata": {},
     "output_type": "execute_result"
    }
   ],
   "source": [
    "Video(\"./video/rl-video-episode-0.mp4\")"
   ]
  },
  {
   "cell_type": "code",
   "execution_count": null,
   "id": "a7b611fd-e5c8-4a7c-a6a2-433174f5a181",
   "metadata": {},
   "outputs": [],
   "source": []
  }
 ],
 "metadata": {
  "kernelspec": {
   "display_name": "Python 3 (ipykernel)",
   "language": "python",
   "name": "python3"
  },
  "language_info": {
   "codemirror_mode": {
    "name": "ipython",
    "version": 3
   },
   "file_extension": ".py",
   "mimetype": "text/x-python",
   "name": "python",
   "nbconvert_exporter": "python",
   "pygments_lexer": "ipython3",
   "version": "3.10.12"
  }
 },
 "nbformat": 4,
 "nbformat_minor": 5
}
